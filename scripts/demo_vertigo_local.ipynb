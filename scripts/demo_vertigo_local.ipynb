{
 "cells": [
  {
   "cell_type": "markdown",
   "metadata": {},
   "source": [
    "Before we begin, we will change a few settings to make the notebook look a bit prettier"
   ]
  },
  {
   "cell_type": "code",
   "execution_count": 1,
   "metadata": {},
   "outputs": [
    {
     "data": {
      "text/html": [
       "<style> body {font-family: \"Calibri\", cursive, sans-serif;} </style>\n"
      ],
      "text/plain": [
       "<IPython.core.display.HTML object>"
      ]
     },
     "metadata": {},
     "output_type": "display_data"
    }
   ],
   "source": [
    "%%html\n",
    "<style> body {font-family: \"Calibri\", cursive, sans-serif;} </style>"
   ]
  },
  {
   "cell_type": "markdown",
   "metadata": {},
   "source": [
    "<img src=\"https://iknl.nl/images/default-source/images/.png?sfvrsn=3\" align=\"right\">\n",
    "\n",
    "# Using VERTIGO (locally)\n",
    "In this notebook, we simulate a distributed scenario where use VERTIGO. Namely, we perform a LR analysis in a dataset in a centralized way and in a (simulated) distributed way. Then, we compare the resulting coefficients of both approaches. \n",
    "\n",
    "For a step-by-step explanation of how VERTIGO works, see the notebook [`demo_vertigo`](https://nbviewer.jupyter.org/github/IKNL/vertigo/blob/master/scripts/demo_vertigo.ipynb). For a real-life distributed implementation of VERTIGO using our [privacy preserving DL infrastructure](https://github.com/IKNL/ppDLI), see our repository, `d_vertigo`.\n",
    "\n",
    "All right. Let's get started."
   ]
  },
  {
   "cell_type": "markdown",
   "metadata": {},
   "source": [
    "## Preliminaries\n",
    "Display plots."
   ]
  },
  {
   "cell_type": "code",
   "execution_count": 2,
   "metadata": {},
   "outputs": [],
   "source": [
    "%matplotlib inline"
   ]
  },
  {
   "cell_type": "markdown",
   "metadata": {},
   "source": [
    "Import packages"
   ]
  },
  {
   "cell_type": "code",
   "execution_count": 3,
   "metadata": {},
   "outputs": [],
   "source": [
    "import os\n",
    "import copy\n",
    "import pathlib\n",
    "import pandas as pd\n",
    "import numpy as np\n",
    "import seaborn as sns\n",
    "import matplotlib as mpl\n",
    "from matplotlib import pyplot as plt\n",
    "from sklearn.linear_model import LogisticRegression\n",
    "from sklearn.model_selection import train_test_split\n",
    "from sklearn.preprocessing import binarize"
   ]
  },
  {
   "cell_type": "markdown",
   "metadata": {},
   "source": [
    "Import user-defined local modules."
   ]
  },
  {
   "cell_type": "code",
   "execution_count": 4,
   "metadata": {},
   "outputs": [],
   "source": [
    "import vertigo as v\n",
    "import auxiliaries"
   ]
  },
  {
   "cell_type": "markdown",
   "metadata": {},
   "source": [
    "Set (default) plotting parameters."
   ]
  },
  {
   "cell_type": "code",
   "execution_count": 5,
   "metadata": {},
   "outputs": [],
   "source": [
    "mpl.rcParams['font.sans-serif'] = \"Calibri\"\n",
    "mpl.rcParams['font.family'] = \"sans-serif\"\n",
    "sns.set(font_scale=1.75)\n",
    "sns.set_style('ticks')\n",
    "plt.rc('axes.spines', top=False, right=False)"
   ]
  },
  {
   "cell_type": "markdown",
   "metadata": {},
   "source": [
    "Setup paths."
   ]
  },
  {
   "cell_type": "code",
   "execution_count": 6,
   "metadata": {},
   "outputs": [],
   "source": [
    "# Setup working path\n",
    "os.chdir(os.getcwd())\n",
    "\n",
    "PATH_DATA = pathlib.Path(r'../data/')\n",
    "PATH_RESULTS = pathlib.Path(r'../results/')\n",
    "\n",
    "if not PATH_DATA.exists():\n",
    "    raise ValueError(\"Data directory not found.\")\n",
    "    \n",
    "if not PATH_RESULTS.exists():\n",
    "    path_results.mkdir()"
   ]
  },
  {
   "cell_type": "markdown",
   "metadata": {},
   "source": [
    "Setup execution parameters."
   ]
  },
  {
   "cell_type": "code",
   "execution_count": 7,
   "metadata": {},
   "outputs": [],
   "source": [
    "# Test/train partitioning.\n",
    "TEST_PROP = 0.2\n",
    "SEED = 31416 # For reproducibility.\n",
    "\n",
    "# Centralized/VERTIGO regression.\n",
    "LAMBDAS_ = np.array([0.1, 1, 5, 10, 20, 50, 100, 200, 500, 1000])\n",
    "N_LAMBDAS = len(LAMBDAS_)\n",
    "TOLERANCE = 1e-8\n",
    "THRESHOLDS = np.array([0.5])\n",
    "N_THRESHOLDS = len(THRESHOLDS)"
   ]
  },
  {
   "cell_type": "markdown",
   "metadata": {},
   "source": [
    "## The data\n",
    "We will be using the [Breast Cancer Wisconsin Diagnostic Data Set](https://archive.ics.uci.edu/ml/datasets/Breast+Cancer+Wisconsin+%28Diagnostic%29). The data consists of real-valued features computed from a digitalized image of breast biposy. The features describe the characteristics of the cell nuclei present in the image: \n",
    "* `radius` - mean of distances from center to points on the perimeter\n",
    "* `texture` - standard deviation of gray-scale values\n",
    "* `perimeter`\n",
    "* `area`\n",
    "* `smoothness` - local variation in radii lengths\n",
    "* `compactness` - perimeter^2 / area - 1.0\n",
    "* `concavity` - severity of concave portions of the contour\n",
    "* `concave points` - number of concave portions of the contour\n",
    "* `symmetry`\n",
    "* `fractal dimension` - \"coastline approximation\" - 1\n",
    "\n",
    "The mean, standard error, and \"worst\" or largest (mean of the three largest values) of these features were computed for each image, resulting in 30 features. For the sake of simplicity, we will only consider the mean values of the features, resulting in 10 features. The output variable is `diagnosis`, which states if result of the biopsy was a benign (`B`) or a malignant (`M`) tumor."
   ]
  },
  {
   "cell_type": "code",
   "execution_count": 8,
   "metadata": {},
   "outputs": [
    {
     "data": {
      "text/html": [
       "<div>\n",
       "<style scoped>\n",
       "    .dataframe tbody tr th:only-of-type {\n",
       "        vertical-align: middle;\n",
       "    }\n",
       "\n",
       "    .dataframe tbody tr th {\n",
       "        vertical-align: top;\n",
       "    }\n",
       "\n",
       "    .dataframe thead th {\n",
       "        text-align: right;\n",
       "    }\n",
       "</style>\n",
       "<table border=\"1\" class=\"dataframe\">\n",
       "  <thead>\n",
       "    <tr style=\"text-align: right;\">\n",
       "      <th></th>\n",
       "      <th>diagnosis</th>\n",
       "      <th>radius_mean</th>\n",
       "      <th>texture_mean</th>\n",
       "      <th>perimeter_mean</th>\n",
       "      <th>area_mean</th>\n",
       "      <th>smoothness_mean</th>\n",
       "      <th>compactness_mean</th>\n",
       "      <th>concavity_mean</th>\n",
       "      <th>concave points_mean</th>\n",
       "      <th>symmetry_mean</th>\n",
       "      <th>fractal_dimension_mean</th>\n",
       "    </tr>\n",
       "    <tr>\n",
       "      <th>id</th>\n",
       "      <th></th>\n",
       "      <th></th>\n",
       "      <th></th>\n",
       "      <th></th>\n",
       "      <th></th>\n",
       "      <th></th>\n",
       "      <th></th>\n",
       "      <th></th>\n",
       "      <th></th>\n",
       "      <th></th>\n",
       "      <th></th>\n",
       "    </tr>\n",
       "  </thead>\n",
       "  <tbody>\n",
       "    <tr>\n",
       "      <th>842302</th>\n",
       "      <td>M</td>\n",
       "      <td>17.99</td>\n",
       "      <td>10.38</td>\n",
       "      <td>122.80</td>\n",
       "      <td>1001.0</td>\n",
       "      <td>0.11840</td>\n",
       "      <td>0.27760</td>\n",
       "      <td>0.3001</td>\n",
       "      <td>0.14710</td>\n",
       "      <td>0.2419</td>\n",
       "      <td>0.07871</td>\n",
       "    </tr>\n",
       "    <tr>\n",
       "      <th>842517</th>\n",
       "      <td>M</td>\n",
       "      <td>20.57</td>\n",
       "      <td>17.77</td>\n",
       "      <td>132.90</td>\n",
       "      <td>1326.0</td>\n",
       "      <td>0.08474</td>\n",
       "      <td>0.07864</td>\n",
       "      <td>0.0869</td>\n",
       "      <td>0.07017</td>\n",
       "      <td>0.1812</td>\n",
       "      <td>0.05667</td>\n",
       "    </tr>\n",
       "    <tr>\n",
       "      <th>84300903</th>\n",
       "      <td>M</td>\n",
       "      <td>19.69</td>\n",
       "      <td>21.25</td>\n",
       "      <td>130.00</td>\n",
       "      <td>1203.0</td>\n",
       "      <td>0.10960</td>\n",
       "      <td>0.15990</td>\n",
       "      <td>0.1974</td>\n",
       "      <td>0.12790</td>\n",
       "      <td>0.2069</td>\n",
       "      <td>0.05999</td>\n",
       "    </tr>\n",
       "    <tr>\n",
       "      <th>84348301</th>\n",
       "      <td>M</td>\n",
       "      <td>11.42</td>\n",
       "      <td>20.38</td>\n",
       "      <td>77.58</td>\n",
       "      <td>386.1</td>\n",
       "      <td>0.14250</td>\n",
       "      <td>0.28390</td>\n",
       "      <td>0.2414</td>\n",
       "      <td>0.10520</td>\n",
       "      <td>0.2597</td>\n",
       "      <td>0.09744</td>\n",
       "    </tr>\n",
       "    <tr>\n",
       "      <th>84358402</th>\n",
       "      <td>M</td>\n",
       "      <td>20.29</td>\n",
       "      <td>14.34</td>\n",
       "      <td>135.10</td>\n",
       "      <td>1297.0</td>\n",
       "      <td>0.10030</td>\n",
       "      <td>0.13280</td>\n",
       "      <td>0.1980</td>\n",
       "      <td>0.10430</td>\n",
       "      <td>0.1809</td>\n",
       "      <td>0.05883</td>\n",
       "    </tr>\n",
       "  </tbody>\n",
       "</table>\n",
       "</div>"
      ],
      "text/plain": [
       "         diagnosis  radius_mean  ...  symmetry_mean  fractal_dimension_mean\n",
       "id                               ...                                       \n",
       "842302           M        17.99  ...         0.2419                 0.07871\n",
       "842517           M        20.57  ...         0.1812                 0.05667\n",
       "84300903         M        19.69  ...         0.2069                 0.05999\n",
       "84348301         M        11.42  ...         0.2597                 0.09744\n",
       "84358402         M        20.29  ...         0.1809                 0.05883\n",
       "\n",
       "[5 rows x 11 columns]"
      ]
     },
     "execution_count": 8,
     "metadata": {},
     "output_type": "execute_result"
    }
   ],
   "source": [
    "df = pd.read_csv(PATH_DATA/'data.csv', index_col=0, usecols=range(0, 12))\n",
    "df.head(5)"
   ]
  },
  {
   "cell_type": "markdown",
   "metadata": {},
   "source": [
    "Notice how in this case, all variables are continuous. If the data had categorical values, they would need to be encoded, preferably using [one-hot encoding](https://en.wikipedia.org/wiki/One-hot)."
   ]
  },
  {
   "cell_type": "markdown",
   "metadata": {},
   "source": [
    "## Data pre-processing\n",
    "Extract the features only"
   ]
  },
  {
   "cell_type": "code",
   "execution_count": 9,
   "metadata": {},
   "outputs": [],
   "source": [
    "column_names = list(df.columns)[1:]\n",
    "X_centralized = df[column_names]"
   ]
  },
  {
   "cell_type": "markdown",
   "metadata": {},
   "source": [
    "In order to avoid having features that are dominant just because of their range, we will normalize them."
   ]
  },
  {
   "cell_type": "code",
   "execution_count": 10,
   "metadata": {},
   "outputs": [],
   "source": [
    "X_centralized = (X_centralized - np.min(X_centralized))/(np.max(X_centralized) - np.min(X_centralized))"
   ]
  },
  {
   "cell_type": "markdown",
   "metadata": {},
   "source": [
    "### Re-structuring of the data\n",
    "For the sake of this example, we will simulate two different parties. Each of these parties will have half of the features."
   ]
  },
  {
   "cell_type": "code",
   "execution_count": 11,
   "metadata": {},
   "outputs": [
    {
     "data": {
      "text/html": [
       "<div>\n",
       "<style scoped>\n",
       "    .dataframe tbody tr th:only-of-type {\n",
       "        vertical-align: middle;\n",
       "    }\n",
       "\n",
       "    .dataframe tbody tr th {\n",
       "        vertical-align: top;\n",
       "    }\n",
       "\n",
       "    .dataframe thead th {\n",
       "        text-align: right;\n",
       "    }\n",
       "</style>\n",
       "<table border=\"1\" class=\"dataframe\">\n",
       "  <thead>\n",
       "    <tr style=\"text-align: right;\">\n",
       "      <th></th>\n",
       "      <th>radius_mean</th>\n",
       "      <th>texture_mean</th>\n",
       "      <th>perimeter_mean</th>\n",
       "      <th>area_mean</th>\n",
       "      <th>smoothness_mean</th>\n",
       "    </tr>\n",
       "    <tr>\n",
       "      <th>id</th>\n",
       "      <th></th>\n",
       "      <th></th>\n",
       "      <th></th>\n",
       "      <th></th>\n",
       "      <th></th>\n",
       "    </tr>\n",
       "  </thead>\n",
       "  <tbody>\n",
       "    <tr>\n",
       "      <th>842302</th>\n",
       "      <td>0.521037</td>\n",
       "      <td>0.022658</td>\n",
       "      <td>0.545989</td>\n",
       "      <td>0.363733</td>\n",
       "      <td>0.593753</td>\n",
       "    </tr>\n",
       "    <tr>\n",
       "      <th>842517</th>\n",
       "      <td>0.643144</td>\n",
       "      <td>0.272574</td>\n",
       "      <td>0.615783</td>\n",
       "      <td>0.501591</td>\n",
       "      <td>0.289880</td>\n",
       "    </tr>\n",
       "    <tr>\n",
       "      <th>84300903</th>\n",
       "      <td>0.601496</td>\n",
       "      <td>0.390260</td>\n",
       "      <td>0.595743</td>\n",
       "      <td>0.449417</td>\n",
       "      <td>0.514309</td>\n",
       "    </tr>\n",
       "    <tr>\n",
       "      <th>84348301</th>\n",
       "      <td>0.210090</td>\n",
       "      <td>0.360839</td>\n",
       "      <td>0.233501</td>\n",
       "      <td>0.102906</td>\n",
       "      <td>0.811321</td>\n",
       "    </tr>\n",
       "    <tr>\n",
       "      <th>84358402</th>\n",
       "      <td>0.629893</td>\n",
       "      <td>0.156578</td>\n",
       "      <td>0.630986</td>\n",
       "      <td>0.489290</td>\n",
       "      <td>0.430351</td>\n",
       "    </tr>\n",
       "  </tbody>\n",
       "</table>\n",
       "</div>"
      ],
      "text/plain": [
       "          radius_mean  texture_mean  perimeter_mean  area_mean  smoothness_mean\n",
       "id                                                                             \n",
       "842302       0.521037      0.022658        0.545989   0.363733         0.593753\n",
       "842517       0.643144      0.272574        0.615783   0.501591         0.289880\n",
       "84300903     0.601496      0.390260        0.595743   0.449417         0.514309\n",
       "84348301     0.210090      0.360839        0.233501   0.102906         0.811321\n",
       "84358402     0.629893      0.156578        0.630986   0.489290         0.430351"
      ]
     },
     "execution_count": 11,
     "metadata": {},
     "output_type": "execute_result"
    }
   ],
   "source": [
    "X1 = X_centralized[column_names[0:round(len(column_names)/2)]]\n",
    "X1.head(5)"
   ]
  },
  {
   "cell_type": "code",
   "execution_count": 12,
   "metadata": {},
   "outputs": [
    {
     "data": {
      "text/html": [
       "<div>\n",
       "<style scoped>\n",
       "    .dataframe tbody tr th:only-of-type {\n",
       "        vertical-align: middle;\n",
       "    }\n",
       "\n",
       "    .dataframe tbody tr th {\n",
       "        vertical-align: top;\n",
       "    }\n",
       "\n",
       "    .dataframe thead th {\n",
       "        text-align: right;\n",
       "    }\n",
       "</style>\n",
       "<table border=\"1\" class=\"dataframe\">\n",
       "  <thead>\n",
       "    <tr style=\"text-align: right;\">\n",
       "      <th></th>\n",
       "      <th>compactness_mean</th>\n",
       "      <th>concavity_mean</th>\n",
       "      <th>concave points_mean</th>\n",
       "      <th>symmetry_mean</th>\n",
       "      <th>fractal_dimension_mean</th>\n",
       "    </tr>\n",
       "    <tr>\n",
       "      <th>id</th>\n",
       "      <th></th>\n",
       "      <th></th>\n",
       "      <th></th>\n",
       "      <th></th>\n",
       "      <th></th>\n",
       "    </tr>\n",
       "  </thead>\n",
       "  <tbody>\n",
       "    <tr>\n",
       "      <th>842302</th>\n",
       "      <td>0.792037</td>\n",
       "      <td>0.703140</td>\n",
       "      <td>0.731113</td>\n",
       "      <td>0.686364</td>\n",
       "      <td>0.605518</td>\n",
       "    </tr>\n",
       "    <tr>\n",
       "      <th>842517</th>\n",
       "      <td>0.181768</td>\n",
       "      <td>0.203608</td>\n",
       "      <td>0.348757</td>\n",
       "      <td>0.379798</td>\n",
       "      <td>0.141323</td>\n",
       "    </tr>\n",
       "    <tr>\n",
       "      <th>84300903</th>\n",
       "      <td>0.431017</td>\n",
       "      <td>0.462512</td>\n",
       "      <td>0.635686</td>\n",
       "      <td>0.509596</td>\n",
       "      <td>0.211247</td>\n",
       "    </tr>\n",
       "    <tr>\n",
       "      <th>84348301</th>\n",
       "      <td>0.811361</td>\n",
       "      <td>0.565604</td>\n",
       "      <td>0.522863</td>\n",
       "      <td>0.776263</td>\n",
       "      <td>1.000000</td>\n",
       "    </tr>\n",
       "    <tr>\n",
       "      <th>84358402</th>\n",
       "      <td>0.347893</td>\n",
       "      <td>0.463918</td>\n",
       "      <td>0.518390</td>\n",
       "      <td>0.378283</td>\n",
       "      <td>0.186816</td>\n",
       "    </tr>\n",
       "  </tbody>\n",
       "</table>\n",
       "</div>"
      ],
      "text/plain": [
       "          compactness_mean  ...  fractal_dimension_mean\n",
       "id                          ...                        \n",
       "842302            0.792037  ...                0.605518\n",
       "842517            0.181768  ...                0.141323\n",
       "84300903          0.431017  ...                0.211247\n",
       "84348301          0.811361  ...                1.000000\n",
       "84358402          0.347893  ...                0.186816\n",
       "\n",
       "[5 rows x 5 columns]"
      ]
     },
     "execution_count": 12,
     "metadata": {},
     "output_type": "execute_result"
    }
   ],
   "source": [
    "X2 = X_centralized[column_names[round(len(column_names)/2):]]\n",
    "X2.head(5)"
   ]
  },
  {
   "cell_type": "markdown",
   "metadata": {},
   "source": [
    "### Output"
   ]
  },
  {
   "cell_type": "code",
   "execution_count": 13,
   "metadata": {},
   "outputs": [],
   "source": [
    "y = df[['diagnosis']]"
   ]
  },
  {
   "cell_type": "markdown",
   "metadata": {},
   "source": [
    "Centralized LR uses an output of 0 or 1..."
   ]
  },
  {
   "cell_type": "code",
   "execution_count": 14,
   "metadata": {},
   "outputs": [],
   "source": [
    "y_centralized = y['diagnosis'].map(lambda x: 1 if x=='M' else 0)\n",
    "y_centralized = pd.DataFrame(y_centralized)"
   ]
  },
  {
   "cell_type": "markdown",
   "metadata": {},
   "source": [
    "...while VERTIGO uses an output of -1 or 1."
   ]
  },
  {
   "cell_type": "code",
   "execution_count": 15,
   "metadata": {},
   "outputs": [],
   "source": [
    "y_vertigo = y['diagnosis'].map(lambda x: 1 if x=='M' else -1)\n",
    "y_vertigo = pd.DataFrame(y_vertigo)"
   ]
  },
  {
   "cell_type": "markdown",
   "metadata": {},
   "source": [
    "## Class balancing\n",
    "This is particularly important for a logistic regression. If a class is underrepresented, the model will apparently perform well, but it will likely just predict one class all the time. Thus we need to balance it. We will do so using downsampling."
   ]
  },
  {
   "cell_type": "code",
   "execution_count": 16,
   "metadata": {},
   "outputs": [],
   "source": [
    "X_centralized_balanced, y_centralized_balanced = auxiliaries.downsample(X_centralized, y_centralized, random_state=0)\n",
    "X1_balanced, y_vertigo_balanced = auxiliaries.downsample(X1, y_vertigo, random_state=0)\n",
    "X2_balanced, _ = auxiliaries.downsample(X2, y_vertigo, random_state=0)"
   ]
  },
  {
   "cell_type": "code",
   "execution_count": 17,
   "metadata": {},
   "outputs": [
    {
     "data": {
      "image/png": "[encoded data removed]",
      "text/plain": [
       "<Figure size 720x360 with 2 Axes>"
      ]
     },
     "metadata": {},
     "output_type": "display_data"
    }
   ],
   "source": [
    "fig, (ax1, ax2) = plt.subplots(1, 2, figsize=[10, 5])\n",
    "sns.countplot(x='diagnosis', data=y_centralized, palette='husl', ax=ax1)\n",
    "sns.countplot(x='diagnosis', data=y_centralized_balanced, palette='husl', ax=ax2)\n",
    "ax1.set_title(\"Original\", weight='bold')\n",
    "ax2.set_title(\"Balanced (downsampling)\", weight='bold')\n",
    "ax1.set_ylabel(\"No. of patients\", weight='bold')\n",
    "ax2.set_ylabel(\"\")\n",
    "fig.savefig(PATH_RESULTS/('class_proportion.pdf'), dpi=1000, bbox_inches='tight')\n",
    "plt.show();"
   ]
  },
  {
   "cell_type": "markdown",
   "metadata": {},
   "source": [
    "## Data partition\n",
    "Partition data into training and testing sets."
   ]
  },
  {
   "cell_type": "code",
   "execution_count": 18,
   "metadata": {},
   "outputs": [],
   "source": [
    "X_centralized_train, X_centralized_test, y_centralized_train, y_centralized_test = train_test_split(X_centralized_balanced, y_centralized_balanced, test_size=TEST_PROP, random_state=SEED)\n",
    "\n",
    "X1_train, X1_test, y_vertigo_train, y_vertigo_test = train_test_split(X1_balanced, y_vertigo_balanced, test_size=TEST_PROP, random_state=SEED)\n",
    "X2_train, X2_test, _, _ = train_test_split(X2_balanced, y_vertigo_balanced, test_size=TEST_PROP, random_state=SEED)\n",
    "\n",
    "X_vertigo_train = list([X1_train, X2_train])\n",
    "Z_vertigo_test = list([X1_test, X2_test])"
   ]
  },
  {
   "cell_type": "markdown",
   "metadata": {},
   "source": [
    "## Perform regressions\n",
    "We will obtain the models' coefficients, compute their probabilities, and generate their predictions.\n",
    "\n",
    "First, we need to initialize some variables"
   ]
  },
  {
   "cell_type": "code",
   "execution_count": 19,
   "metadata": {},
   "outputs": [],
   "source": [
    "n_coefficients = len(column_names) + 1 # +1 for the intercept\n",
    "centralized_coefficients = np.zeros([N_LAMBDAS, n_coefficients])\n",
    "vertigo_coefficients = np.zeros([N_LAMBDAS, n_coefficients])\n",
    "\n",
    "n_patients_test = len(X_centralized_test)\n",
    "\n",
    "accuracies_logistic = np.zeros([N_LAMBDAS, N_THRESHOLDS])\n",
    "accuracies_vertigo = np.zeros([N_LAMBDAS, N_THRESHOLDS])\n",
    "prediction_matches = np.zeros([N_LAMBDAS, N_THRESHOLDS])\n",
    "\n",
    "y_centralized_prob = np.zeros([N_LAMBDAS, 1, n_patients_test])\n",
    "y_vertigo_prob = np.zeros([N_LAMBDAS, 1, n_patients_test])\n",
    "y_centralized_pred = np.zeros([N_LAMBDAS, N_THRESHOLDS, n_patients_test])\n",
    "y_vertigo_pred = np.zeros([N_LAMBDAS, N_THRESHOLDS, n_patients_test])"
   ]
  },
  {
   "cell_type": "markdown",
   "metadata": {},
   "source": [
    "Then, we will perform the regressions, parametrizing them with different $\\lambda$ values.\n",
    "\n",
    "In the centralized case, we will use sci-kit's [`liblinear`](https://scikit-learn.org/stable/modules/generated/sklearn.linear_model.LogisticRegression.html), since it is the most appropriate one to compare with VERTIGO: it allows L2 regularization (penalization) with a dual formulation.\n",
    "\n",
    "For the VERTIGO case, we are using an object `v.vertigo`, which actually does the processing and heavy-lifting. If you are intersted in the details, you can check it out, as well as the accompanying notebook [`demo_vertigo`](https://nbviewer.jupyter.org/github/IKNL/vertigo/blob/master/scripts/demo_vertigo.ipynb)."
   ]
  },
  {
   "cell_type": "code",
   "execution_count": 20,
   "metadata": {},
   "outputs": [
    {
     "name": "stderr",
     "output_type": "stream",
     "text": [
      "C:\\ProgramData\\Anaconda3\\lib\\site-packages\\sklearn\\svm\\base.py:929: ConvergenceWarning: Liblinear failed to converge, increase the number of iterations.\n",
      "  \"the number of iterations.\", ConvergenceWarning)\n"
     ]
    }
   ],
   "source": [
    "for ii, LAMBDA_ in enumerate(LAMBDAS_):\n",
    "    \n",
    "    # Create regression objects and fit data.\n",
    "    centralized_regression = LogisticRegression(solver='liblinear', C=1/LAMBDA_, intercept_scaling=1, penalty='l2', dual=True, tol=TOLERANCE, verbose=False);\n",
    "    _ = centralized_regression.fit(X_centralized_train, y_centralized_train.values.ravel())\n",
    "    \n",
    "    vertigo = v.vertigo(lambda_=LAMBDA_, tol=TOLERANCE, verbose=False)\n",
    "    _ = vertigo.fit(X_vertigo_train, y_vertigo_train)\n",
    "\n",
    "    # Store the coefficients.\n",
    "    centralized_coefficients[ii, 0:-1] = centralized_regression.coef_[0]\n",
    "    centralized_coefficients[ii, -1] = centralized_regression.intercept_\n",
    "    vertigo_coefficients[ii, 0:-1] = vertigo.beta_coef_\n",
    "    vertigo_coefficients[ii, -1] = vertigo.intercept_\n",
    "    \n",
    "    \n",
    "    # Compute probabilities\n",
    "    y_centralized_prob[ii, 0, :] = centralized_regression.predict_proba(X_centralized_test)[:, 1]\n",
    "    \n",
    "    centralized_regression_vertigo = copy.deepcopy(centralized_regression)\n",
    "    centralized_regression_vertigo.coef_ = np.array([vertigo.beta_coef_])\n",
    "    centralized_regression_vertigo.intercept_ = np.array([vertigo.intercept_])\n",
    "    y_vertigo_prob[ii, 0, :] = centralized_regression_vertigo.predict_proba(X_centralized_test)[:, 1]\n",
    "    \n",
    "    # Generate predictions.\n",
    "    for jj, THRESHOLD in enumerate(THRESHOLDS):\n",
    "        y_centralized_pred[ii, jj, :] = binarize(y_centralized_prob[ii, 0, :].reshape(-1, 1), THRESHOLD).ravel()\n",
    "        y_vertigo_pred[ii, jj, :] = binarize(y_vertigo_prob[ii, 0, :].reshape(-1, 1), THRESHOLD).ravel()"
   ]
  },
  {
   "cell_type": "markdown",
   "metadata": {},
   "source": [
    "## Analyzing the coefficients\n",
    "Let's take a look at how similar or how different are the centralized and the VERTIGO coefficients."
   ]
  },
  {
   "cell_type": "code",
   "execution_count": 21,
   "metadata": {},
   "outputs": [
    {
     "data": {
      "image/png": "[encoded data removed]",
      "text/plain": [
       "<Figure size 1080x720 with 12 Axes>"
      ]
     },
     "metadata": {},
     "output_type": "display_data"
    }
   ],
   "source": [
    "# Initialize some variables.\n",
    "features = column_names.copy()\n",
    "features.append('intercept')\n",
    "n_features = len(features)\n",
    "\n",
    "fig, axes = plt.subplots(3, 4, figsize=[15, 10])\n",
    "fig.subplots_adjust(hspace=0.25)\n",
    "colors = [plt.cm.winter(ii) for ii in np.linspace(0, 1, n_features)]\n",
    "\n",
    "# Create coefficient subplots.\n",
    "n_plot = 0\n",
    "for ax, centralized_coeff, vertigo_coeff, feature in zip(axes.ravel(), centralized_coefficients.T, vertigo_coefficients.T, features):\n",
    "    n_plot += 1\n",
    "\n",
    "    ax.plot(LAMBDAS_, centralized_coeff, linewidth=3, color=colors[n_plot-1]);\n",
    "    ax.plot(LAMBDAS_, vertigo_coeff, linewidth=3, linestyle='--', color=colors[n_plot-1]);\n",
    "    ax.axhline(y=0, xmin=0, xmax=max(LAMBDAS_), linestyle=':', color=[0.3, 0.3, 0.3]);\n",
    "    \n",
    "    ax.set_ylim([-0.15, 0.15])\n",
    "    ax.set_title(feature)\n",
    "    \n",
    "    if not n_plot in [8, 9, 10, 11]:\n",
    "        ax.xaxis.set_ticklabels([])\n",
    "    if not n_plot in [1, 5, 9]:\n",
    "        ax.yaxis.set_ticklabels([])\n",
    "    if n_plot == 10:\n",
    "        ax.set_xlabel(r\"$\\lambda$\", horizontalalignment='right')\n",
    "    if n_plot == 5:\n",
    "        ax.set_ylabel(\"Coefficient value\")    \n",
    "\n",
    "# Create legend subplot.\n",
    "ax_last = axes.ravel()[-1]\n",
    "ax_last.axhline(y=0.6, xmin=0.2, xmax=0.4, linewidth=3, color=[0.6, 0.6, 0.6])\n",
    "ax_last.axhline(y=0.4, xmin=0.2, xmax=0.4, linewidth=3, linestyle='--', color=[0.6, 0.6, 0.6])\n",
    "ax_last.text(0.5, 0.55, 'Centralized')\n",
    "ax_last.text(0.5, 0.35, 'VERTIGO')\n",
    "ax_last.set_xlim([0, 1])\n",
    "ax_last.set_ylim([0, 1])\n",
    "ax_last.xaxis.set_visible(False)\n",
    "ax_last.yaxis.set_visible(False)\n",
    "ax_last.spines['left'].set_visible(False)\n",
    "ax_last.spines['bottom'].set_visible(False)\n",
    "\n",
    "fig.savefig(PATH_RESULTS/('coefficients.pdf'), dpi=1000, bbox_inches='tight')\n",
    "plt.show();"
   ]
  },
  {
   "cell_type": "markdown",
   "metadata": {},
   "source": [
    "The natural question now is: how do I define which parameters should my model use? Namely, we are talking about the threshold and $\\lambda$ values. That's a good question and I'm afraid there's no easy answer for it.\n",
    "\n",
    "For instance, the default threshold value of 0.5 might not be optimal for your application. In the case of $\\lambda$ it is even more complicated. In the original paper, the authors used values of 80, 1000, and 1300 for their real-life examples. Unfortunately, they don't provide an explanation for their choice.\n",
    "\n",
    "In the end, the optimal values for these parameters will depend on your data. Therefore, we recommend playing around with them until you find the best combination. Be sure that you optimize them using your training (and not your test) dataset!"
   ]
  }
 ],
 "metadata": {
  "kernelspec": {
   "display_name": "Python 3 (Spyder)",
   "language": "python3",
   "name": "python3"
  },
  "language_info": {
   "codemirror_mode": {
    "name": "ipython",
    "version": 3
   },
   "file_extension": ".py",
   "mimetype": "text/x-python",
   "name": "python",
   "nbconvert_exporter": "python",
   "pygments_lexer": "ipython3",
   "version": "3.7.3"
  }
 },
 "nbformat": 4,
 "nbformat_minor": 2
}
